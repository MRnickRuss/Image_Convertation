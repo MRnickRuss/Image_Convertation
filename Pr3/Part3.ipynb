{
  "nbformat": 4,
  "nbformat_minor": 0,
  "metadata": {
    "colab": {
      "provenance": [],
      "mount_file_id": "1aEL5bjO8Hf53goVgm0whzFFQBSWLdbfI",
      "authorship_tag": "ABX9TyOa0dPXMPYHPpknE0TSf6MV",
      "include_colab_link": true
    },
    "kernelspec": {
      "name": "python3",
      "display_name": "Python 3"
    },
    "language_info": {
      "name": "python"
    }
  },
  "cells": [
    {
      "cell_type": "markdown",
      "metadata": {
        "id": "view-in-github",
        "colab_type": "text"
      },
      "source": [
        "<a href=\"https://colab.research.google.com/github/MRnickRuss/Image_Convertation/blob/main/Pr3/Part3.ipynb\" target=\"_parent\"><img src=\"https://colab.research.google.com/assets/colab-badge.svg\" alt=\"Open In Colab\"/></a>"
      ]
    },
    {
      "cell_type": "code",
      "source": [
        "!pip install imageai"
      ],
      "metadata": {
        "colab": {
          "base_uri": "https://localhost:8080/"
        },
        "id": "9qDDG2kcTF6z",
        "outputId": "8635820f-8fdf-429c-b5ec-ce50bde964b3"
      },
      "execution_count": null,
      "outputs": [
        {
          "output_type": "stream",
          "name": "stdout",
          "text": [
            "Collecting imageai\n",
            "  Downloading imageai-3.0.3-py3-none-any.whl (69 kB)\n",
            "\u001b[?25l     \u001b[90m━━━━━━━━━━━━━━━━━━━━━━━━━━━━━━━━━━━━━━━━\u001b[0m \u001b[32m0.0/69.8 kB\u001b[0m \u001b[31m?\u001b[0m eta \u001b[36m-:--:--\u001b[0m\r\u001b[2K     \u001b[91m━━━━━━━━━━━━━━━━━\u001b[0m\u001b[90m╺\u001b[0m\u001b[90m━━━━━━━━━━━━━━━━━━━━━\u001b[0m \u001b[32m30.7/69.8 kB\u001b[0m \u001b[31m942.1 kB/s\u001b[0m eta \u001b[36m0:00:01\u001b[0m\r\u001b[2K     \u001b[90m━━━━━━━━━━━━━━━━━━━━━━━━━━━━━━━━━━━━━━━━\u001b[0m \u001b[32m69.8/69.8 kB\u001b[0m \u001b[31m1.2 MB/s\u001b[0m eta \u001b[36m0:00:00\u001b[0m\n",
            "\u001b[?25hInstalling collected packages: imageai\n",
            "Successfully installed imageai-3.0.3\n"
          ]
        }
      ]
    },
    {
      "cell_type": "code",
      "source": [
        "from imageai.Detection import VideoObjectDetection\n",
        "import os\n",
        "import cv2\n",
        "\n",
        "def video_object_detection(video_path, save_path):\n",
        "    try:\n",
        "        execution_path = \"/content/drive/MyDrive/VideoObjectDetection/yolov3.pt\"\n",
        "\n",
        "        detector = VideoObjectDetection()\n",
        "        detector.setModelTypeAsYOLOv3()\n",
        "        detector.setModelPath(execution_path)\n",
        "        detector.loadModel()\n",
        "\n",
        "        video_path = detector.detectObjectsFromVideo(input_file_path=video_path,\n",
        "                               output_file_path=save_path, frames_per_second=30)\n",
        "\n",
        "        print(video_path)"
      ],
      "metadata": {
        "id": "lSGiqNYgN2j5"
      },
      "execution_count": null,
      "outputs": []
    },
    {
      "cell_type": "code",
      "source": [
        "\n",
        "video_path = \"/content/drive/MyDrive/VideoObjectDetection/Передвижение военной техники в Москве.mp4\"\n",
        "save_path = \"/content/drive/MyDrive/VideoObjectDetection/Processed_Передвижение военной техники в Москве\"\n",
        "\n",
        "print(video_object_detection(video_path, save_path))"
      ],
      "metadata": {
        "colab": {
          "base_uri": "https://localhost:8080/"
        },
        "id": "BYl3pJmdN5M8",
        "outputId": "ab991685-22a1-4e61-9109-6c3a08525569"
      },
      "execution_count": null,
      "outputs": [
        {
          "output_type": "stream",
          "name": "stdout",
          "text": [
            "Путь, по которому сохранено видео: /content/drive/MyDrive/VideoObjectDetection/Processed_Передвижение военной техники в Москве.mp4\n",
            "Детекция объектов на видео произведена\n"
          ]
        }
      ]
    }
  ]
}